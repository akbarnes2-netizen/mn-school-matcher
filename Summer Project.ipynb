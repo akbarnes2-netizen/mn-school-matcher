{
 "cells": [
  {
   "cell_type": "code",
   "execution_count": null,
   "id": "0ff1ab42",
   "metadata": {},
   "outputs": [],
   "source": [
    "!pip install flask"
   ]
  },
  {
   "cell_type": "code",
   "execution_count": 1,
   "id": "1666d379",
   "metadata": {},
   "outputs": [
    {
     "name": "stdout",
     "output_type": "stream",
     "text": [
      "Traceback (most recent call last):\r\n",
      "  File \"/Users/amandabarnes/summer2025/summerapp.py\", line 7, in <module>\r\n",
      "    school_data = pd.read_csv(\"projectdata.csv\")\r\n",
      "                  ^^^^^^^^^^^^^^^^^^^^^^^^^^^^^^\r\n",
      "  File \"/Users/amandabarnes/anaconda3/lib/python3.11/site-packages/pandas/util/_decorators.py\", line 211, in wrapper\r\n",
      "    return func(*args, **kwargs)\r\n",
      "           ^^^^^^^^^^^^^^^^^^^^^\r\n",
      "  File \"/Users/amandabarnes/anaconda3/lib/python3.11/site-packages/pandas/util/_decorators.py\", line 331, in wrapper\r\n",
      "    return func(*args, **kwargs)\r\n",
      "           ^^^^^^^^^^^^^^^^^^^^^\r\n",
      "  File \"/Users/amandabarnes/anaconda3/lib/python3.11/site-packages/pandas/io/parsers/readers.py\", line 950, in read_csv\r\n",
      "    return _read(filepath_or_buffer, kwds)\r\n",
      "           ^^^^^^^^^^^^^^^^^^^^^^^^^^^^^^^\r\n",
      "  File \"/Users/amandabarnes/anaconda3/lib/python3.11/site-packages/pandas/io/parsers/readers.py\", line 605, in _read\r\n",
      "    parser = TextFileReader(filepath_or_buffer, **kwds)\r\n",
      "             ^^^^^^^^^^^^^^^^^^^^^^^^^^^^^^^^^^^^^^^^^^\r\n",
      "  File \"/Users/amandabarnes/anaconda3/lib/python3.11/site-packages/pandas/io/parsers/readers.py\", line 1442, in __init__\r\n",
      "    self._engine = self._make_engine(f, self.engine)\r\n",
      "                   ^^^^^^^^^^^^^^^^^^^^^^^^^^^^^^^^^\r\n",
      "  File \"/Users/amandabarnes/anaconda3/lib/python3.11/site-packages/pandas/io/parsers/readers.py\", line 1735, in _make_engine\r\n",
      "    self.handles = get_handle(\r\n",
      "                   ^^^^^^^^^^^\r\n",
      "  File \"/Users/amandabarnes/anaconda3/lib/python3.11/site-packages/pandas/io/common.py\", line 856, in get_handle\r\n",
      "    handle = open(\r\n",
      "             ^^^^^\r\n",
      "FileNotFoundError: [Errno 2] No such file or directory: 'projectdata.csv'\r\n"
     ]
    }
   ],
   "source": [
    "!python summerapp.py"
   ]
  },
  {
   "cell_type": "code",
   "execution_count": null,
   "id": "2a132fc2",
   "metadata": {},
   "outputs": [],
   "source": []
  }
 ],
 "metadata": {
  "kernelspec": {
   "display_name": "Python 3 (ipykernel)",
   "language": "python",
   "name": "python3"
  },
  "language_info": {
   "codemirror_mode": {
    "name": "ipython",
    "version": 3
   },
   "file_extension": ".py",
   "mimetype": "text/x-python",
   "name": "python",
   "nbconvert_exporter": "python",
   "pygments_lexer": "ipython3",
   "version": "3.11.4"
  }
 },
 "nbformat": 4,
 "nbformat_minor": 5
}
